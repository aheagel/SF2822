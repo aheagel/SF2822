{
 "cells": [
  {
   "cell_type": "markdown",
   "metadata": {},
   "source": [
    "# Init"
   ]
  },
  {
   "cell_type": "code",
   "execution_count": 2,
   "metadata": {},
   "outputs": [],
   "source": [
    "import pandas as pd"
   ]
  },
  {
   "cell_type": "markdown",
   "metadata": {},
   "source": [
    "# Data"
   ]
  },
  {
   "cell_type": "code",
   "execution_count": 4,
   "metadata": {
    "vscode": {
     "languageId": "markdown"
    }
   },
   "outputs": [
    {
     "data": {
      "text/html": [
       "<div>\n",
       "<style scoped>\n",
       "    .dataframe tbody tr th:only-of-type {\n",
       "        vertical-align: middle;\n",
       "    }\n",
       "\n",
       "    .dataframe tbody tr th {\n",
       "        vertical-align: top;\n",
       "    }\n",
       "\n",
       "    .dataframe thead th {\n",
       "        text-align: right;\n",
       "    }\n",
       "</style>\n",
       "<table border=\"1\" class=\"dataframe\">\n",
       "  <thead>\n",
       "    <tr style=\"text-align: right;\">\n",
       "      <th></th>\n",
       "      <th>edge_name</th>\n",
       "      <th>distance_m</th>\n",
       "      <th>duration_s</th>\n",
       "      <th>from_node</th>\n",
       "      <th>to_node</th>\n",
       "      <th>distance_km</th>\n",
       "      <th>duration_min</th>\n",
       "      <th>avg_speed_kmh</th>\n",
       "      <th>u_ij</th>\n",
       "      <th>a_ij</th>\n",
       "    </tr>\n",
       "  </thead>\n",
       "  <tbody>\n",
       "    <tr>\n",
       "      <th>0</th>\n",
       "      <td>E18 North</td>\n",
       "      <td>9333.6</td>\n",
       "      <td>628.5</td>\n",
       "      <td>Täby</td>\n",
       "      <td>Bergshamra</td>\n",
       "      <td>9.3336</td>\n",
       "      <td>10.475000</td>\n",
       "      <td>53.462148</td>\n",
       "      <td>2000</td>\n",
       "      <td>3.182180</td>\n",
       "    </tr>\n",
       "    <tr>\n",
       "      <th>1</th>\n",
       "      <td>E18 South</td>\n",
       "      <td>8989.9</td>\n",
       "      <td>704.5</td>\n",
       "      <td>Bergshamra</td>\n",
       "      <td>T-Centralen</td>\n",
       "      <td>8.9899</td>\n",
       "      <td>11.741667</td>\n",
       "      <td>45.938453</td>\n",
       "      <td>2000</td>\n",
       "      <td>2.838893</td>\n",
       "    </tr>\n",
       "    <tr>\n",
       "      <th>2</th>\n",
       "      <td>E20 East</td>\n",
       "      <td>8025.1</td>\n",
       "      <td>857.8</td>\n",
       "      <td>Lidingö</td>\n",
       "      <td>T-Centralen</td>\n",
       "      <td>8.0251</td>\n",
       "      <td>14.296667</td>\n",
       "      <td>33.679599</td>\n",
       "      <td>2000</td>\n",
       "      <td>2.331546</td>\n",
       "    </tr>\n",
       "    <tr>\n",
       "      <th>3</th>\n",
       "      <td>279 West</td>\n",
       "      <td>15364.8</td>\n",
       "      <td>1137.2</td>\n",
       "      <td>Vällingby</td>\n",
       "      <td>Bergshamra</td>\n",
       "      <td>15.3648</td>\n",
       "      <td>18.953333</td>\n",
       "      <td>48.639887</td>\n",
       "      <td>1200</td>\n",
       "      <td>1.055223</td>\n",
       "    </tr>\n",
       "    <tr>\n",
       "      <th>4</th>\n",
       "      <td>275 West</td>\n",
       "      <td>13454.3</td>\n",
       "      <td>1302.3</td>\n",
       "      <td>Vällingby</td>\n",
       "      <td>T-Centralen</td>\n",
       "      <td>13.4543</td>\n",
       "      <td>21.705000</td>\n",
       "      <td>37.192260</td>\n",
       "      <td>1200</td>\n",
       "      <td>0.921447</td>\n",
       "    </tr>\n",
       "  </tbody>\n",
       "</table>\n",
       "</div>"
      ],
      "text/plain": [
       "   edge_name  distance_m  duration_s   from_node      to_node  distance_km  \\\n",
       "0  E18 North      9333.6       628.5        Täby   Bergshamra       9.3336   \n",
       "1  E18 South      8989.9       704.5  Bergshamra  T-Centralen       8.9899   \n",
       "2   E20 East      8025.1       857.8     Lidingö  T-Centralen       8.0251   \n",
       "3   279 West     15364.8      1137.2   Vällingby   Bergshamra      15.3648   \n",
       "4   275 West     13454.3      1302.3   Vällingby  T-Centralen      13.4543   \n",
       "\n",
       "   duration_min  avg_speed_kmh  u_ij      a_ij  \n",
       "0     10.475000      53.462148  2000  3.182180  \n",
       "1     11.741667      45.938453  2000  2.838893  \n",
       "2     14.296667      33.679599  2000  2.331546  \n",
       "3     18.953333      48.639887  1200  1.055223  \n",
       "4     21.705000      37.192260  1200  0.921447  "
      ]
     },
     "execution_count": 4,
     "metadata": {},
     "output_type": "execute_result"
    }
   ],
   "source": [
    "# Replace 'your_file.csv' with the path to your CSV file\n",
    "csv_data = pd.read_csv('edge_distances_osrm.csv')\n",
    "\n",
    "# Display the first few rows of the CSV data\n",
    "csv_data.head()"
   ]
  },
  {
   "cell_type": "markdown",
   "metadata": {},
   "source": [
    "### Demand split"
   ]
  },
  {
   "cell_type": "code",
   "execution_count": 6,
   "metadata": {},
   "outputs": [],
   "source": [
    "# Chat Gpt generated\n",
    "# Construct the DataFrame\n",
    "data = {\n",
    "    \"Node\": [\n",
    "        \"Farsta Shopping Centre\", \"Skärholmen\", \"Vällingby\", \"Täby\", \"Lidingö\",\n",
    "        \"Nacka Forum\", \"Sollentuna\", \"Bergshamra\", \"Avicii Arena\", \"Årstaberg\", \"T-Centralen\"\n",
    "    ],\n",
    "    \"Approx. Population\": [\n",
    "        60_523, 33_662, 71_042, 77_744, 48_162, 110_633, 76_237, 7_300, 70_779, 12_486, 40_312\n",
    "    ],\n",
    "    \"Source\": [\n",
    "        \"Farsta borough (2022 estimate)\",\n",
    "        \"Skärholmen borough (2004)\",\n",
    "        \"Hässelby-Vällingby borough (2014)\",\n",
    "        \"Täby Municipality (31 Dec 2024)\",\n",
    "        \"Lidingö urban area (2023)\",\n",
    "        \"Nacka Municipality (2023)\",\n",
    "        \"Sollentuna Municipality (2022)\",\n",
    "        \"Bergshamra suburb (approx.)\",\n",
    "        \"Östermalm borough (2014)\",\n",
    "        \"Årsta locality (recent)\",\n",
    "        \"Norrmalm district\"\n",
    "    ]\n",
    "}\n",
    "\n",
    "_df = pd.DataFrame(data)\n"
   ]
  },
  {
   "cell_type": "code",
   "execution_count": 8,
   "metadata": {},
   "outputs": [
    {
     "data": {
      "text/html": [
       "<div>\n",
       "<style scoped>\n",
       "    .dataframe tbody tr th:only-of-type {\n",
       "        vertical-align: middle;\n",
       "    }\n",
       "\n",
       "    .dataframe tbody tr th {\n",
       "        vertical-align: top;\n",
       "    }\n",
       "\n",
       "    .dataframe thead th {\n",
       "        text-align: right;\n",
       "    }\n",
       "</style>\n",
       "<table border=\"1\" class=\"dataframe\">\n",
       "  <thead>\n",
       "    <tr style=\"text-align: right;\">\n",
       "      <th></th>\n",
       "      <th>Source</th>\n",
       "      <th>Target</th>\n",
       "      <th>Demand</th>\n",
       "    </tr>\n",
       "  </thead>\n",
       "  <tbody>\n",
       "    <tr>\n",
       "      <th>0</th>\n",
       "      <td>Farsta Shopping Centre</td>\n",
       "      <td>Skärholmen</td>\n",
       "      <td>672</td>\n",
       "    </tr>\n",
       "    <tr>\n",
       "      <th>1</th>\n",
       "      <td>Farsta Shopping Centre</td>\n",
       "      <td>Vällingby</td>\n",
       "      <td>672</td>\n",
       "    </tr>\n",
       "    <tr>\n",
       "      <th>2</th>\n",
       "      <td>Farsta Shopping Centre</td>\n",
       "      <td>Täby</td>\n",
       "      <td>672</td>\n",
       "    </tr>\n",
       "    <tr>\n",
       "      <th>3</th>\n",
       "      <td>Farsta Shopping Centre</td>\n",
       "      <td>Lidingö</td>\n",
       "      <td>672</td>\n",
       "    </tr>\n",
       "    <tr>\n",
       "      <th>4</th>\n",
       "      <td>Farsta Shopping Centre</td>\n",
       "      <td>Nacka Forum</td>\n",
       "      <td>672</td>\n",
       "    </tr>\n",
       "  </tbody>\n",
       "</table>\n",
       "</div>"
      ],
      "text/plain": [
       "                   Source       Target  Demand\n",
       "0  Farsta Shopping Centre   Skärholmen     672\n",
       "1  Farsta Shopping Centre    Vällingby     672\n",
       "2  Farsta Shopping Centre         Täby     672\n",
       "3  Farsta Shopping Centre      Lidingö     672\n",
       "4  Farsta Shopping Centre  Nacka Forum     672"
      ]
     },
     "execution_count": 8,
     "metadata": {},
     "output_type": "execute_result"
    }
   ],
   "source": [
    "import itertools\n",
    "\n",
    "# Create a new DataFrame with demand for each Node from all other Nodes\n",
    "demand_data = []\n",
    "\n",
    "data_split = 0.9\n",
    "\n",
    "for source, target in itertools.product(_df[\"Node\"], repeat=2):\n",
    "    if source != target:  # Exclude self-demand\n",
    "        source_population = _df.loc[_df[\"Node\"] == source, \"Approx. Population\"].values[0]\n",
    "        if target == \"T-Centralen\":\n",
    "            demand = int(source_population * data_split)\n",
    "        else:\n",
    "            demand = int(source_population * (1 - data_split) / (_df.shape[0] - 2))  # Exclude T-Centralen and itself\n",
    "        demand_data.append({\n",
    "            \"Source\": source,\n",
    "            \"Target\": target,\n",
    "            \"Demand\": demand\n",
    "        })\n",
    "\n",
    "demand_df = pd.DataFrame(demand_data)\n",
    "demand_df.head()"
   ]
  },
  {
   "cell_type": "markdown",
   "metadata": {},
   "source": [
    "# Modeling"
   ]
  }
 ],
 "metadata": {
  "kernelspec": {
   "display_name": "Python 3",
   "language": "python",
   "name": "python3"
  },
  "language_info": {
   "codemirror_mode": {
    "name": "ipython",
    "version": 3
   },
   "file_extension": ".py",
   "mimetype": "text/x-python",
   "name": "python",
   "nbconvert_exporter": "python",
   "pygments_lexer": "ipython3",
   "version": "3.12.1"
  }
 },
 "nbformat": 4,
 "nbformat_minor": 2
}
