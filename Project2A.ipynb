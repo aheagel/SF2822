{
 "cells": [
  {
   "cell_type": "code",
   "execution_count": 1,
   "metadata": {},
   "outputs": [],
   "source": [
    "import pandas as pd\n",
    "\n",
    "# Chat Gpt generated\n",
    "# Construct the DataFrame\n",
    "data = {\n",
    "    \"Node\": [\n",
    "        \"Farsta Shopping Centre\", \"Skärholmen\", \"Vällingby\", \"Täby\", \"Lidingö\",\n",
    "        \"Nacka Forum\", \"Sollentuna\", \"Bergshamra\", \"Avicii Arena\", \"Årstaberg\", \"T-Centralen\"\n",
    "    ],\n",
    "    \"Approx. Population\": [\n",
    "        \"60,523\", \"33,662\", \"71,042\", \"77,744\", \"48,162\",\n",
    "        \"110,633\", \"76,237\", \"7,300\", \"70,779\", \"12,486\", \"40,312\"\n",
    "    ],\n",
    "    \"Source\": [\n",
    "        \"Farsta borough (2022 estimate)\",\n",
    "        \"Skärholmen borough (2004)\",\n",
    "        \"Hässelby-Vällingby borough (2014)\",\n",
    "        \"Täby Municipality (31 Dec 2024)\",\n",
    "        \"Lidingö urban area (2023)\",\n",
    "        \"Nacka Municipality (2023)\",\n",
    "        \"Sollentuna Municipality (2022)\",\n",
    "        \"Bergshamra suburb (approx.)\",\n",
    "        \"Östermalm borough (2014)\",\n",
    "        \"Årsta locality (recent)\",\n",
    "        \"Norrmalm district\"\n",
    "    ]\n",
    "}\n",
    "\n",
    "df = pd.DataFrame(data)\n"
   ]
  }
 ],
 "metadata": {
  "kernelspec": {
   "display_name": "Python 3",
   "language": "python",
   "name": "python3"
  },
  "language_info": {
   "codemirror_mode": {
    "name": "ipython",
    "version": 3
   },
   "file_extension": ".py",
   "mimetype": "text/x-python",
   "name": "python",
   "nbconvert_exporter": "python",
   "pygments_lexer": "ipython3",
   "version": "3.12.1"
  }
 },
 "nbformat": 4,
 "nbformat_minor": 2
}
